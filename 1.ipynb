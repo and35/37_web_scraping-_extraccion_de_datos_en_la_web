{
 "cells": [
  {
   "attachments": {},
   "cell_type": "markdown",
   "metadata": {},
   "source": [
    "# Módulo 1: HTML: Requests y BeautifulSoup\n",
    "## descargando la pagina (requests)\n",
    "<img src='https://www.pagina12.com.ar/assets/media/logos/logo_pagina_12_n.svg?v=1.0.178' width=300></img>\n",
    "En este módulo veremos cómo utilizar las bibliotecas `requests` y `bs4` para programar scrapers de sitios HTML. Nos propondremos armar un scraper de noticias del diario <a href='www.pagina12.com.ar'>Página 12</a>."
   ]
  },
  {
   "attachments": {},
   "cell_type": "markdown",
   "metadata": {},
   "source": [
    "Supongamos que queremos leer el diario por internet. Lo primero que hacemos es abrir el navegador, escribir la URL del diario y apretar Enter para que aparezca la página del diario. Lo que ocurre en el momento en el que apretamos Enter es lo siguiente:\n",
    "1. El navegador envía una solicitud a la URL pidiéndole información.\n",
    "2. El servidor recibe la petición y procesa la respuesta.\n",
    "3. El servidor envía la respuesta a la IP de la cual recibió la solicitud.\n",
    "4. Nuestro navegador recibe la respuesta y la muestra **formateada** en pantalla.\n",
    "\n",
    "Para hacer un scraper debemos hacer un programa que replique este flujo de forma automática y sistemática para luego extraer la información deseada de la respuesta. Utilizaremos `requests` para realizar peticiones y recibir las respuestas y `bs4` para *parsear* la respuesta y extraer la información.<br>\n",
    "Te dejo unos links que tal vez te sean de utilidad:\n",
    "- [Códigos de status HTTP](https://developer.mozilla.org/es/docs/Web/HTTP/Status)\n",
    "- [Documentación de requests](https://requests.kennethreitz.org/en/master/)\n",
    "- [Documentación de bs4](https://www.crummy.com/software/BeautifulSoup/bs4/doc/)"
   ]
  },
  {
   "cell_type": "code",
   "execution_count": 1,
   "metadata": {},
   "outputs": [],
   "source": [
    "import requests\n",
    "import pandas as pd"
   ]
  },
  {
   "cell_type": "code",
   "execution_count": 11,
   "metadata": {},
   "outputs": [
    {
     "data": {
      "text/plain": [
       "200"
      ]
     },
     "execution_count": 11,
     "metadata": {},
     "output_type": "execute_result"
    }
   ],
   "source": [
    "URL= \"https://www.pagina12.com.ar/\"\n",
    "p12 = requests.get(URL) # enviamos una peticion a la pagina web\n",
    "p12.status_code # consultamos el status de la consult, un 200 es repuesta existosa"
   ]
  },
  {
   "cell_type": "code",
   "execution_count": 12,
   "metadata": {},
   "outputs": [],
   "source": [
    "# print(p12.text) # nos regresara en formato de texto plano el contenido html de la pagina\n",
    "# print(p12.content) # lo mismo que .text pero el contenido estara dentro de una etiqueta que dice el tipo de contenido\n",
    "# ejemplo: b'<! la b indica que son bits "
   ]
  },
  {
   "attachments": {},
   "cell_type": "markdown",
   "metadata": {},
   "source": [
    "### acceso a los headers\n",
    "recordando el curso 53 sabemos que cuando se ejecuta el modelo cliente servidor, tanto en la request http como en la response http hay headers que dan metadatos hacia el servidor, como de regreso en la http response "
   ]
  },
  {
   "cell_type": "code",
   "execution_count": 13,
   "metadata": {},
   "outputs": [
    {
     "data": {
      "text/plain": [
       "{'User-Agent': 'python-requests/2.27.1', 'Accept-Encoding': 'gzip, deflate, br', 'Accept': '*/*', 'Connection': 'keep-alive'}"
      ]
     },
     "execution_count": 13,
     "metadata": {},
     "output_type": "execute_result"
    }
   ],
   "source": [
    "p12.headers # headers de la response http\n",
    "p12.request.headers # headers de la request http"
   ]
  },
  {
   "attachments": {},
   "cell_type": "markdown",
   "metadata": {},
   "source": [
    "En el header del request http 'User-Agent': 'python-requests/2.27.1' es un campo muy importante ya que le indica al servidor que la peticion probiene de un sistema automatizado de python, en ocaciones el server te bloqueara por esta variable "
   ]
  },
  {
   "cell_type": "code",
   "execution_count": 35,
   "metadata": {},
   "outputs": [
    {
     "name": "stdout",
     "output_type": "stream",
     "text": [
      "GET\n",
      "https://www.pagina12.com.ar/\n"
     ]
    }
   ],
   "source": [
    "print(p12.request.method) # nos indica el metodo que se uso para la peticion\n",
    "print(p12.url) # nos muestra la url por donde se envia la response http, util cuando "
   ]
  },
  {
   "attachments": {},
   "cell_type": "markdown",
   "metadata": {},
   "source": [
    "## Parsing Pagina (Beatiful Soup)\n"
   ]
  },
  {
   "cell_type": "code",
   "execution_count": 15,
   "metadata": {},
   "outputs": [],
   "source": [
    "from bs4 import BeautifulSoup"
   ]
  },
  {
   "cell_type": "code",
   "execution_count": 16,
   "metadata": {},
   "outputs": [],
   "source": [
    "sp = BeautifulSoup(p12.text, \"lxml\") # recibe el contenido html y el parser (codigo que separa el contenido, osea lxml)\n",
    "# si \"lxml\" no funciona intenta 'html.parser' o si tienes linux pip3 install lxml "
   ]
  },
  {
   "cell_type": "code",
   "execution_count": 25,
   "metadata": {},
   "outputs": [
    {
     "data": {
      "text/plain": [
       "<ul class=\"horizontal-list main-supplements hide-on-mobile\"><li><span class=\"today\">Hoy:</span></li><li class=\"p12-separator--right--primary\"><a href=\"https://www.pagina12.com.ar/suplementos/verano12\">Verano12</a></li><li class=\"\"><a href=\"https://www.pagina12.com.ar/suplementos/no\">NO</a></li></ul>"
      ]
     },
     "execution_count": 25,
     "metadata": {},
     "output_type": "execute_result"
    }
   ],
   "source": [
    "#print(sp.prettify()) # nos regresara el contenido indentado, \n",
    "# ya que el DOM(document, object model) del html organiza en forma de arbol"
   ]
  },
  {
   "cell_type": "code",
   "execution_count": 26,
   "metadata": {},
   "outputs": [
    {
     "data": {
      "text/plain": [
       "[<li class=\"p12-separator--right--blue\"><a href=\"https://www.pagina12.com.ar/secciones/el-pais\">El país</a></li>,\n",
       " <li class=\"p12-separator--right--blue\"><a href=\"https://www.pagina12.com.ar/secciones/economia\">Economía</a></li>,\n",
       " <li class=\"p12-separator--right--blue\"><a href=\"https://www.pagina12.com.ar/secciones/sociedad\">Sociedad</a></li>,\n",
       " <li class=\"no-separator-on-1040 p12-separator--right--blue\"><a href=\"https://www.pagina12.com.ar/suplementos/cultura-y-espectaculos\">Espectáculos</a></li>,\n",
       " <li class=\"hide-on-1040 p12-separator--right--blue\"><a href=\"https://www.pagina12.com.ar/secciones/deportes\">Deportes</a></li>,\n",
       " <li class=\"hide-on-1040 p12-separator--right--blue\"><a href=\"https://www.pagina12.com.ar/secciones/ciencia\">Ciencia</a></li>,\n",
       " <li class=\"hide-on-1040\"><a href=\"https://www.pagina12.com.ar/secciones/el-mundo\">El mundo</a></li>]"
      ]
     },
     "execution_count": 26,
     "metadata": {},
     "output_type": "execute_result"
    }
   ],
   "source": [
    "sp.find(\"ul\") # nos traera la 1er etiqueta(tag) ul\n",
    "sp.find(\"ul\", attrs={'class':'hot-sections'}) # regresa la tag ul con la class=hot-sections\n",
    "secciones = sp.find(\"ul\", attrs={'class':'main-sections'}).find_all('li')# # nos regresara un lista de todas las tag li de la busqueda previa\n",
    "secciones"
   ]
  },
  {
   "cell_type": "code",
   "execution_count": 30,
   "metadata": {},
   "outputs": [
    {
     "data": {
      "text/plain": [
       "<li class=\"p12-separator--right--blue\"><a href=\"https://www.pagina12.com.ar/secciones/el-pais\">El país</a></li>"
      ]
     },
     "execution_count": 30,
     "metadata": {},
     "output_type": "execute_result"
    }
   ],
   "source": [
    "seccion = secciones[0] # seleccionamos la primera tag li, un equivalente es secciones.a, secciones.find(\"a\")\n",
    "seccion "
   ]
  },
  {
   "attachments": {},
   "cell_type": "markdown",
   "metadata": {},
   "source": [
    "### extrayendo informacion de las etiquetas\n",
    "si recuerdas las clases de html de desarrollo web las etiquetas tienen: \n",
    "- atributos(id, class, urls) \n",
    "- texto "
   ]
  },
  {
   "cell_type": "code",
   "execution_count": 36,
   "metadata": {},
   "outputs": [
    {
     "name": "stdout",
     "output_type": "stream",
     "text": [
      "https://www.pagina12.com.ar/secciones/el-pais\n",
      "El país\n",
      "El país\n"
     ]
    }
   ],
   "source": [
    "# ahora podemos acceder mas facilmente a el contenido de la etiqueta li\n",
    "print(seccion.a.get('href')) # asi obtenemos el ATRIBUTO link de la etiqueta a \n",
    "print(seccion.a.get_text())\n",
    "print(seccion.text)"
   ]
  },
  {
   "cell_type": "code",
   "execution_count": 40,
   "metadata": {},
   "outputs": [
    {
     "data": {
      "text/plain": [
       "['https://www.pagina12.com.ar/secciones/el-pais',\n",
       " 'https://www.pagina12.com.ar/secciones/economia',\n",
       " 'https://www.pagina12.com.ar/secciones/sociedad',\n",
       " 'https://www.pagina12.com.ar/suplementos/cultura-y-espectaculos',\n",
       " 'https://www.pagina12.com.ar/secciones/deportes',\n",
       " 'https://www.pagina12.com.ar/secciones/ciencia',\n",
       " 'https://www.pagina12.com.ar/secciones/el-mundo']"
      ]
     },
     "execution_count": 40,
     "metadata": {},
     "output_type": "execute_result"
    }
   ],
   "source": [
    "[sec.text for sec in secciones] # para obtener todos los textos de las etiquetas li\n",
    "links_secciones = [sec.a.get('href') for sec in secciones]  # para obtener todos los links de la etiquetas a \n",
    "links_secciones"
   ]
  },
  {
   "attachments": {},
   "cell_type": "markdown",
   "metadata": {},
   "source": [
    "#### el poder del scrapping\n",
    "con la lista de enlaces ahora podriamos usar request para analizar cada pestaña, aqui inica el poder del scraping.\n",
    "analizaremos la pagina de la seccion el pais"
   ]
  },
  {
   "cell_type": "code",
   "execution_count": 42,
   "metadata": {},
   "outputs": [
    {
     "data": {
      "text/plain": [
       "'https://www.pagina12.com.ar/secciones/el-pais'"
      ]
     },
     "execution_count": 42,
     "metadata": {},
     "output_type": "execute_result"
    }
   ],
   "source": [
    "sec = requests.get(links_secciones[0])\n",
    "print(sec.request.url)\n",
    "print(sec.status_code)"
   ]
  },
  {
   "cell_type": "code",
   "execution_count": 60,
   "metadata": {},
   "outputs": [],
   "source": [
    "soup_seccion = BeautifulSoup(sec.text, 'lxml')\n",
    "#print(soup_seccion.prettify())"
   ]
  },
  {
   "attachments": {},
   "cell_type": "markdown",
   "metadata": {},
   "source": [
    "si inspeccionas la página te daras cuenta que hay 3 diferentes titulos h2,h3,h4 que contienen la etiqueta \"a\" con los links a cada noticia de la seccion del pais. los 3 titulos comparten la peculiaridad de tener la clase title-list, con esto podemos extraer los lins de cada noticia en la pestaña. \n",
    "ten en consideracion que los links tienen esta forma:   \n",
    "\"/515409-alberto-fernandez-siempre-vamos-en-socorro-de-los-que-mas-ne\"  \n",
    "por lo que debemos añadirle la direccion de la pagina actual usando \"sec.request.url\" para que tengamos:  \n",
    "\"https://www.pagina12.com.ar/secciones/el-pais/515409-alberto-fernandez-siempre-vamos-en-socorro-de-los-que-mas-ne\""
   ]
  },
  {
   "cell_type": "code",
   "execution_count": 73,
   "metadata": {},
   "outputs": [
    {
     "data": {
      "text/plain": [
       "['https://www.pagina12.com.ar/secciones/el-pais/515409-alberto-fernandez-siempre-vamos-en-socorro-de-los-que-mas-ne',\n",
       " 'https://www.pagina12.com.ar/secciones/el-pais/515408-hurlingham-reclamos-cruzados-por-la-obra-de-un-hospital',\n",
       " 'https://www.pagina12.com.ar/secciones/el-pais/515404-paritarias-la-pulseada-por-la-recuperacion-de-los-salarios',\n",
       " 'https://www.pagina12.com.ar/secciones/el-pais/515373-nuevo-reclamo-para-que-alberto-fernandez-indulte-a-milagro-s',\n",
       " 'https://www.pagina12.com.ar/secciones/el-pais/515399-organismos-de-derechos-humanos-apoyan-el-juicio-politico-a-l',\n",
       " 'https://www.pagina12.com.ar/secciones/el-pais/515397-sesiones-extraordinarias-con-sorpresas-ampliacion-de-la-cort',\n",
       " 'https://www.pagina12.com.ar/secciones/el-pais/515382-brasil-oficializo-su-regreso-a-la-celac',\n",
       " 'https://www.pagina12.com.ar/secciones/el-pais/515366-martin-soria-impulsar-reformas-legislativas-no-socava-el-est',\n",
       " 'https://www.pagina12.com.ar/secciones/el-pais/515348-los-27-proyectos-que-envia-el-gobierno-a-sesiones-extraordin',\n",
       " 'https://www.pagina12.com.ar/secciones/el-pais/515336-argentina-realizo-evacuaciones-humanitarias-desde-las-malvin',\n",
       " 'https://www.pagina12.com.ar/secciones/el-pais/515329-el-gobierno-mandara-el-pedido-de-juicio-politico-a-la-corte-']"
      ]
     },
     "execution_count": 73,
     "metadata": {},
     "output_type": "execute_result"
    }
   ],
   "source": [
    "featured_article = soup_seccion.find_all(['h2','h3','h4'], # asi se seleccionan varias etiqeutas al mismo tiempo\n",
    "                                        attrs={'class':'title-list'}) \n",
    "[sec.request.url + art.a.get('href') for art in featured_article]"
   ]
  },
  {
   "attachments": {},
   "cell_type": "markdown",
   "metadata": {},
   "source": [
    "para automatizar mas el proceso crearemos una funcion para que te regrese una lista a todas las noticias de una seccion"
   ]
  },
  {
   "cell_type": "code",
   "execution_count": 75,
   "metadata": {},
   "outputs": [
    {
     "data": {
      "text/plain": [
       "['https://www.pagina12.com.ar/secciones/el-pais/515409-alberto-fernandez-siempre-vamos-en-socorro-de-los-que-mas-ne',\n",
       " 'https://www.pagina12.com.ar/secciones/el-pais/515408-hurlingham-reclamos-cruzados-por-la-obra-de-un-hospital',\n",
       " 'https://www.pagina12.com.ar/secciones/el-pais/515404-paritarias-la-pulseada-por-la-recuperacion-de-los-salarios',\n",
       " 'https://www.pagina12.com.ar/secciones/el-pais/515373-nuevo-reclamo-para-que-alberto-fernandez-indulte-a-milagro-s',\n",
       " 'https://www.pagina12.com.ar/secciones/el-pais/515399-organismos-de-derechos-humanos-apoyan-el-juicio-politico-a-l',\n",
       " 'https://www.pagina12.com.ar/secciones/el-pais/515397-sesiones-extraordinarias-con-sorpresas-ampliacion-de-la-cort',\n",
       " 'https://www.pagina12.com.ar/secciones/el-pais/515382-brasil-oficializo-su-regreso-a-la-celac',\n",
       " 'https://www.pagina12.com.ar/secciones/el-pais/515366-martin-soria-impulsar-reformas-legislativas-no-socava-el-est',\n",
       " 'https://www.pagina12.com.ar/secciones/el-pais/515348-los-27-proyectos-que-envia-el-gobierno-a-sesiones-extraordin',\n",
       " 'https://www.pagina12.com.ar/secciones/el-pais/515336-argentina-realizo-evacuaciones-humanitarias-desde-las-malvin',\n",
       " 'https://www.pagina12.com.ar/secciones/el-pais/515329-el-gobierno-mandara-el-pedido-de-juicio-politico-a-la-corte-']"
      ]
     },
     "execution_count": 75,
     "metadata": {},
     "output_type": "execute_result"
    }
   ],
   "source": [
    "def get_link_from_section(section_url): # la funcion resivira el link a una de las secciones como: pais, deporte, etc\n",
    "    sec = requests.get(section_url)\n",
    "    soup_seccion = BeautifulSoup(sec.text, 'lxml')\n",
    "    articles_title = soup_seccion.find_all(['h2','h3','h4'], attrs={'class':'title-list'}) \n",
    "    return [sec.request.url + link.a.get('href') for link in articles_title]\n",
    "\n",
    "get_link_from_section(soup_seccion)"
   ]
  },
  {
   "attachments": {},
   "cell_type": "markdown",
   "metadata": {},
   "source": [
    "### manejo de errores "
   ]
  },
  {
   "cell_type": "code",
   "execution_count": 71,
   "metadata": {},
   "outputs": [
    {
     "data": {
      "text/plain": [
       "11"
      ]
     },
     "execution_count": 71,
     "metadata": {},
     "output_type": "execute_result"
    }
   ],
   "source": []
  }
 ],
 "metadata": {
  "kernelspec": {
   "display_name": "base",
   "language": "python",
   "name": "python3"
  },
  "language_info": {
   "codemirror_mode": {
    "name": "ipython",
    "version": 3
   },
   "file_extension": ".py",
   "mimetype": "text/x-python",
   "name": "python",
   "nbconvert_exporter": "python",
   "pygments_lexer": "ipython3",
   "version": "3.9.12"
  },
  "orig_nbformat": 4,
  "vscode": {
   "interpreter": {
    "hash": "89700b826ea957244dd80a5eea6853c4d4fde16e09f6b962977bd16c6aae5fc9"
   }
  }
 },
 "nbformat": 4,
 "nbformat_minor": 2
}
