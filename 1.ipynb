{
 "cells": [
  {
   "attachments": {},
   "cell_type": "markdown",
   "metadata": {},
   "source": [
    "# Módulo 1: HTML: Requests y BeautifulSoup\n",
    "## descargando la pagina (requests)\n",
    "<img src='https://www.pagina12.com.ar/assets/media/logos/logo_pagina_12_n.svg?v=1.0.178' width=300></img>\n",
    "En este módulo veremos cómo utilizar las bibliotecas `requests` y `bs4` para programar scrapers de sitios HTML. Nos propondremos armar un scraper de noticias del diario <a href='www.pagina12.com.ar'>Página 12</a>."
   ]
  },
  {
   "attachments": {},
   "cell_type": "markdown",
   "metadata": {},
   "source": [
    "Supongamos que queremos leer el diario por internet. Lo primero que hacemos es abrir el navegador, escribir la URL del diario y apretar Enter para que aparezca la página del diario. Lo que ocurre en el momento en el que apretamos Enter es lo siguiente:\n",
    "1. El navegador envía una solicitud a la URL pidiéndole información.\n",
    "2. El servidor recibe la petición y procesa la respuesta.\n",
    "3. El servidor envía la respuesta a la IP de la cual recibió la solicitud.\n",
    "4. Nuestro navegador recibe la respuesta y la muestra **formateada** en pantalla.\n",
    "\n",
    "Para hacer un scraper debemos hacer un programa que replique este flujo de forma automática y sistemática para luego extraer la información deseada de la respuesta. Utilizaremos `requests` para realizar peticiones y recibir las respuestas y `bs4` para *parsear* la respuesta y extraer la información.<br>\n",
    "Te dejo unos links que tal vez te sean de utilidad:\n",
    "- [Códigos de status HTTP](https://developer.mozilla.org/es/docs/Web/HTTP/Status)\n",
    "- [Documentación de requests](https://requests.kennethreitz.org/en/master/)\n",
    "- [Documentación de bs4](https://www.crummy.com/software/BeautifulSoup/bs4/doc/)"
   ]
  },
  {
   "cell_type": "code",
   "execution_count": 1,
   "metadata": {},
   "outputs": [],
   "source": [
    "import requests\n",
    "import pandas as pd"
   ]
  },
  {
   "cell_type": "code",
   "execution_count": 2,
   "metadata": {},
   "outputs": [
    {
     "data": {
      "text/plain": [
       "200"
      ]
     },
     "execution_count": 2,
     "metadata": {},
     "output_type": "execute_result"
    }
   ],
   "source": [
    "URL= \"https://www.pagina12.com.ar/\"\n",
    "p12 = requests.get(URL) # enviamos una peticion a la pagina web\n",
    "p12.status_code # consultamos el status de la consult, un 200 es repuesta existosa"
   ]
  },
  {
   "cell_type": "code",
   "execution_count": 3,
   "metadata": {},
   "outputs": [],
   "source": [
    "# print(p12.text) # nos regresara en formato de texto plano el contenido html de la pagina\n",
    "# print(p12.content) # lo mismo que .text pero el contenido estara dentro de una etiqueta que dice el tipo de contenido\n",
    "# ejemplo: b'<! la b indica que son bits "
   ]
  },
  {
   "attachments": {},
   "cell_type": "markdown",
   "metadata": {},
   "source": [
    "### acceso a los headers\n",
    "recordando el curso 53 sabemos que cuando se ejecuta el modelo cliente servidor, tanto en la request http como en la response http hay headers que dan metadatos hacia el servidor, como de regreso en la http response "
   ]
  },
  {
   "cell_type": "code",
   "execution_count": 4,
   "metadata": {},
   "outputs": [
    {
     "data": {
      "text/plain": [
       "{'User-Agent': 'python-requests/2.27.1', 'Accept-Encoding': 'gzip, deflate, br', 'Accept': '*/*', 'Connection': 'keep-alive'}"
      ]
     },
     "execution_count": 4,
     "metadata": {},
     "output_type": "execute_result"
    }
   ],
   "source": [
    "p12.headers # headers de la response http\n",
    "p12.request.headers # headers de la request http"
   ]
  },
  {
   "attachments": {},
   "cell_type": "markdown",
   "metadata": {},
   "source": [
    "En el header del request http 'User-Agent': 'python-requests/2.27.1' es un campo muy importante ya que le indica al servidor que la peticion probiene de un sistema automatizado de python, en ocaciones el server te bloqueara por esta variable "
   ]
  },
  {
   "cell_type": "code",
   "execution_count": 5,
   "metadata": {},
   "outputs": [
    {
     "name": "stdout",
     "output_type": "stream",
     "text": [
      "GET\n",
      "https://www.pagina12.com.ar/\n"
     ]
    }
   ],
   "source": [
    "print(p12.request.method) # nos indica el metodo que se uso para la peticion\n",
    "print(p12.url) # nos muestra la url por donde se envia la response http, util cuando hay redireciones "
   ]
  },
  {
   "attachments": {},
   "cell_type": "markdown",
   "metadata": {},
   "source": [
    "## Parsing Pagina (Beatiful Soup)\n"
   ]
  },
  {
   "cell_type": "code",
   "execution_count": 6,
   "metadata": {},
   "outputs": [],
   "source": [
    "from bs4 import BeautifulSoup"
   ]
  },
  {
   "cell_type": "code",
   "execution_count": 7,
   "metadata": {},
   "outputs": [],
   "source": [
    "sp = BeautifulSoup(p12.text, \"lxml\") # recibe el contenido html y el parser (codigo que separa el contenido, osea lxml)\n",
    "# si \"lxml\" no funciona intenta 'html.parser' o si tienes linux pip3 install lxml "
   ]
  },
  {
   "cell_type": "code",
   "execution_count": 8,
   "metadata": {},
   "outputs": [],
   "source": [
    "#print(sp.prettify()) # nos regresara el contenido indentado, \n",
    "# ya que el DOM(document, object model) del html organiza en forma de arbol"
   ]
  },
  {
   "cell_type": "code",
   "execution_count": 9,
   "metadata": {},
   "outputs": [
    {
     "data": {
      "text/plain": [
       "[<li class=\"p12-separator--right--blue\"><a href=\"https://www.pagina12.com.ar/secciones/el-pais\">El país</a></li>,\n",
       " <li class=\"p12-separator--right--blue\"><a href=\"https://www.pagina12.com.ar/secciones/economia\">Economía</a></li>,\n",
       " <li class=\"p12-separator--right--blue\"><a href=\"https://www.pagina12.com.ar/secciones/sociedad\">Sociedad</a></li>,\n",
       " <li class=\"no-separator-on-1040 p12-separator--right--blue\"><a href=\"https://www.pagina12.com.ar/suplementos/cultura-y-espectaculos\">Espectáculos</a></li>,\n",
       " <li class=\"hide-on-1040 p12-separator--right--blue\"><a href=\"https://www.pagina12.com.ar/secciones/deportes\">Deportes</a></li>,\n",
       " <li class=\"hide-on-1040 p12-separator--right--blue\"><a href=\"https://www.pagina12.com.ar/secciones/ciencia\">Ciencia</a></li>,\n",
       " <li class=\"hide-on-1040\"><a href=\"https://www.pagina12.com.ar/secciones/el-mundo\">El mundo</a></li>]"
      ]
     },
     "execution_count": 9,
     "metadata": {},
     "output_type": "execute_result"
    }
   ],
   "source": [
    "sp.find(\"ul\") # nos traera la 1er etiqueta(tag) ul\n",
    "sp.find(\"ul\", attrs={'class':'hot-sections'}) # regresa la tag ul con la class=hot-sections\n",
    "secciones = sp.find(\"ul\", attrs={'class':'main-sections'}).find_all('li')# # nos regresara un lista de todas las tag li de la busqueda previa\n",
    "secciones"
   ]
  },
  {
   "cell_type": "code",
   "execution_count": 10,
   "metadata": {},
   "outputs": [
    {
     "data": {
      "text/plain": [
       "<li class=\"p12-separator--right--blue\"><a href=\"https://www.pagina12.com.ar/secciones/el-pais\">El país</a></li>"
      ]
     },
     "execution_count": 10,
     "metadata": {},
     "output_type": "execute_result"
    }
   ],
   "source": [
    "seccion = secciones[0] # seleccionamos la primera tag li, un equivalente es secciones.a, secciones.find(\"a\")\n",
    "seccion "
   ]
  },
  {
   "attachments": {},
   "cell_type": "markdown",
   "metadata": {},
   "source": [
    "### extrayendo informacion de las etiquetas\n",
    "si recuerdas las clases de html de desarrollo web las etiquetas tienen: \n",
    "- atributos(id, class, urls) \n",
    "- texto "
   ]
  },
  {
   "cell_type": "code",
   "execution_count": 11,
   "metadata": {},
   "outputs": [
    {
     "name": "stdout",
     "output_type": "stream",
     "text": [
      "https://www.pagina12.com.ar/secciones/el-pais\n",
      "El país\n",
      "El país\n"
     ]
    }
   ],
   "source": [
    "# ahora podemos acceder mas facilmente a el contenido de la etiqueta li\n",
    "print(seccion.a.get('href')) # asi obtenemos el ATRIBUTO link de la etiqueta a \n",
    "print(seccion.a.get_text())\n",
    "print(seccion.text)"
   ]
  },
  {
   "cell_type": "code",
   "execution_count": 12,
   "metadata": {},
   "outputs": [
    {
     "data": {
      "text/plain": [
       "['https://www.pagina12.com.ar/secciones/el-pais',\n",
       " 'https://www.pagina12.com.ar/secciones/economia',\n",
       " 'https://www.pagina12.com.ar/secciones/sociedad',\n",
       " 'https://www.pagina12.com.ar/suplementos/cultura-y-espectaculos',\n",
       " 'https://www.pagina12.com.ar/secciones/deportes',\n",
       " 'https://www.pagina12.com.ar/secciones/ciencia',\n",
       " 'https://www.pagina12.com.ar/secciones/el-mundo']"
      ]
     },
     "execution_count": 12,
     "metadata": {},
     "output_type": "execute_result"
    }
   ],
   "source": [
    "[sec.text for sec in secciones] # para obtener todos los textos de las etiquetas li\n",
    "links_secciones = [sec.a.get('href') for sec in secciones]  # para obtener todos los links de la etiquetas a \n",
    "links_secciones"
   ]
  },
  {
   "attachments": {},
   "cell_type": "markdown",
   "metadata": {},
   "source": [
    "#### el poder del scrapping\n",
    "con la lista de enlaces ahora podriamos usar request para analizar cada pestaña, aqui inica el poder del scraping.\n",
    "analizaremos la pagina de la seccion el pais"
   ]
  },
  {
   "cell_type": "code",
   "execution_count": 13,
   "metadata": {},
   "outputs": [
    {
     "name": "stdout",
     "output_type": "stream",
     "text": [
      "https://www.pagina12.com.ar/secciones/el-pais\n",
      "200\n"
     ]
    }
   ],
   "source": [
    "sec = requests.get(links_secciones[0])\n",
    "print(sec.request.url)\n",
    "print(sec.status_code)"
   ]
  },
  {
   "cell_type": "code",
   "execution_count": 14,
   "metadata": {},
   "outputs": [],
   "source": [
    "soup_seccion = BeautifulSoup(sec.text, 'lxml')\n",
    "#print(soup_seccion.prettify())"
   ]
  },
  {
   "attachments": {},
   "cell_type": "markdown",
   "metadata": {},
   "source": [
    "si inspeccionas la página te daras cuenta que hay 3 diferentes titulos h2,h3,h4 que contienen la etiqueta \"a\" con los links a cada noticia de la seccion del pais. los 3 titulos comparten la peculiaridad de tener la clase title-list, con esto podemos extraer los lins de cada noticia en la pestaña. \n",
    "ten en consideracion que los links tienen esta forma:   \n",
    "\"/515409-alberto-fernandez-siempre-vamos-en-socorro-de-los-que-mas-ne\"  \n",
    "por lo que debemos añadirle la direccion de la pagina actual usando \"sec.request.url\" para que tengamos:  \n",
    "\"https://www.pagina12.com.ar/secciones/el-pais/515409-alberto-fernandez-siempre-vamos-en-socorro-de-los-que-mas-ne\""
   ]
  },
  {
   "cell_type": "code",
   "execution_count": 24,
   "metadata": {},
   "outputs": [
    {
     "data": {
      "text/plain": [
       "['https://www.pagina12.com.ar/516514-milagro-sala-y-un-antecedente-de-indulto-en-la-presidencia-d',\n",
       " 'https://www.pagina12.com.ar/516512-juicio-politico-a-la-corte-el-gobierno-descarta-dictar-modif',\n",
       " 'https://www.pagina12.com.ar/516500-elisa-carrio-y-gerardo-morales-avanzan-con-su-alianza-en-la-',\n",
       " 'https://www.pagina12.com.ar/516497-rosario-gases-y-balas-de-goma-en-el-ultimo-dia-de-protestas',\n",
       " 'https://www.pagina12.com.ar/516489-maria-eugenia-vidal-suma-a-dario-nieto-a-su-equipo-de-campan',\n",
       " 'https://www.pagina12.com.ar/516478-el-ataque-a-farmacoop-el-primer-laboratorio-recuperado',\n",
       " 'https://www.pagina12.com.ar/516444-cecilia-moreau-convoco-a-todos-los-diputados-y-diputadas-par',\n",
       " 'https://www.pagina12.com.ar/516439-evo-morales-celebrara-el-dia-del-estado-plurinacional-de-bol',\n",
       " 'https://www.pagina12.com.ar/516428-la-estrategia-de-jorge-capitanich-para-evitar-el-bloqueo-opo',\n",
       " 'https://www.pagina12.com.ar/516375-movimientos-sociales-organizan-un-plan-de-lucha-en-rechazo-a',\n",
       " 'https://www.pagina12.com.ar/516362-alberto-fernandez-no-fuimos-nosotros-los-que-endeudamos-al-p']"
      ]
     },
     "execution_count": 24,
     "metadata": {},
     "output_type": "execute_result"
    }
   ],
   "source": [
    "featured_article = soup_seccion.find_all(['h2','h3','h4'], # asi se seleccionan varias etiqeutas al mismo tiempo\n",
    "                                        attrs={'class':'title-list'}) \n",
    "urls_de_seccion_pais = ['https://www.pagina12.com.ar' + art.a.get('href') for art in featured_article]\n",
    "urls_de_seccion_pais"
   ]
  },
  {
   "attachments": {},
   "cell_type": "markdown",
   "metadata": {},
   "source": [
    "para automatizar mas el proceso crearemos una funcion para que te regrese una lista a todas las noticias de una seccion"
   ]
  },
  {
   "cell_type": "code",
   "execution_count": 25,
   "metadata": {},
   "outputs": [
    {
     "data": {
      "text/plain": [
       "['https://www.pagina12.com.ar/516514-milagro-sala-y-un-antecedente-de-indulto-en-la-presidencia-d',\n",
       " 'https://www.pagina12.com.ar/516512-juicio-politico-a-la-corte-el-gobierno-descarta-dictar-modif',\n",
       " 'https://www.pagina12.com.ar/516500-elisa-carrio-y-gerardo-morales-avanzan-con-su-alianza-en-la-',\n",
       " 'https://www.pagina12.com.ar/516497-rosario-gases-y-balas-de-goma-en-el-ultimo-dia-de-protestas',\n",
       " 'https://www.pagina12.com.ar/516489-maria-eugenia-vidal-suma-a-dario-nieto-a-su-equipo-de-campan',\n",
       " 'https://www.pagina12.com.ar/516478-el-ataque-a-farmacoop-el-primer-laboratorio-recuperado',\n",
       " 'https://www.pagina12.com.ar/516444-cecilia-moreau-convoco-a-todos-los-diputados-y-diputadas-par',\n",
       " 'https://www.pagina12.com.ar/516439-evo-morales-celebrara-el-dia-del-estado-plurinacional-de-bol',\n",
       " 'https://www.pagina12.com.ar/516428-la-estrategia-de-jorge-capitanich-para-evitar-el-bloqueo-opo',\n",
       " 'https://www.pagina12.com.ar/516375-movimientos-sociales-organizan-un-plan-de-lucha-en-rechazo-a',\n",
       " 'https://www.pagina12.com.ar/516362-alberto-fernandez-no-fuimos-nosotros-los-que-endeudamos-al-p']"
      ]
     },
     "execution_count": 25,
     "metadata": {},
     "output_type": "execute_result"
    }
   ],
   "source": [
    "def get_link_from_section(section_url): # la funcion resivira el link a una de las secciones como: pais, deporte, etc\n",
    "    sec = requests.get(section_url)\n",
    "    soup_seccion = BeautifulSoup(sec.text, 'lxml')\n",
    "    articles_title = soup_seccion.find_all(['h2','h3','h4'], attrs={'class':'title-list'}) \n",
    "    return ['https://www.pagina12.com.ar' + link.a.get('href') for link in articles_title]\n",
    "\n",
    "urls_de_seccion_pais = get_link_from_section(links_secciones[0]) \n",
    "urls_de_seccion_pais"
   ]
  },
  {
   "attachments": {},
   "cell_type": "markdown",
   "metadata": {},
   "source": [
    "### manejo de errores \n",
    "usaremos try except para evitar que nuestra automatizacion se detenga si encutra un error pequeño"
   ]
  },
  {
   "cell_type": "code",
   "execution_count": 20,
   "metadata": {},
   "outputs": [
    {
     "name": "stdout",
     "output_type": "stream",
     "text": [
      "procesamo la respuesta\n"
     ]
    }
   ],
   "source": [
    "# si recordamos las clases de python try-else es un if-else\n",
    "if p12.status_code == 200:\n",
    "    print(\"procesamos la respuesta\")\n",
    "else:\n",
    "    print(\"informamos el errro\")"
   ]
  },
  {
   "cell_type": "code",
   "execution_count": 21,
   "metadata": {},
   "outputs": [
    {
     "data": {
      "text/plain": [
       "'https://www.pagina13.com.ar/'"
      ]
     },
     "execution_count": 21,
     "metadata": {},
     "output_type": "execute_result"
    }
   ],
   "source": [
    "url_mala = URL.replace(\"2\",\"3\") # cambiamos el 12 por 13 ahora la URL no sirve\n",
    "url_mala"
   ]
  },
  {
   "cell_type": "code",
   "execution_count": 22,
   "metadata": {},
   "outputs": [
    {
     "name": "stdout",
     "output_type": "stream",
     "text": [
      "error en request\n",
      "HTTPSConnectionPool(host='www.pagina13.com.ar', port=443): Max retries exceeded with url: / (Caused by NewConnectionError('<urllib3.connection.HTTPSConnection object at 0x000001E2F5FAED30>: Failed to establish a new connection: [Errno 11001] getaddrinfo failed'))\n"
     ]
    }
   ],
   "source": [
    "# esta es la forma mas sencilla y entendible de manejar errores\n",
    "# pordriamos solo usar except pero podemos aprovechar y mostrar que tipo de error sucedio para analizarlo despues \n",
    "try:\n",
    "    requests.get(url_mala)\n",
    "\n",
    "except Exception as e:  \n",
    "    print(\"error en request\")\n",
    "    print(e)"
   ]
  },
  {
   "cell_type": "code",
   "execution_count": 23,
   "metadata": {},
   "outputs": [],
   "source": [
    "# si no queremos hacer nada con el error simplemente saltarlo usamos\n",
    "try:\n",
    "    featured_article.nombre_etiqueta_fail.get(\"href\")\n",
    "except:\n",
    "    pass"
   ]
  },
  {
   "attachments": {},
   "cell_type": "markdown",
   "metadata": {},
   "source": [
    "### resumen: extraccion de datos\n",
    "utilizando todo lo aprendido obtendremos datos especificos de una noticia estos seran:\n",
    "- titulo\n",
    "- fecha"
   ]
  },
  {
   "cell_type": "code",
   "execution_count": 137,
   "metadata": {},
   "outputs": [
    {
     "name": "stdout",
     "output_type": "stream",
     "text": [
      "Milagro Sala y un antecedente de indulto en la presidencia de Eduardo Duhalde\n",
      "Las gestiones para que Alberto Fernández ordene su liberación\n",
      "2023-01-18T00:23:08-03:00\n"
     ]
    }
   ],
   "source": [
    "def datos_nota(url_nota):\n",
    "    try: # 1.0 creamos un manejador de errores \n",
    "        nota = requests.get(url_nota) # 2.0 hacemos peticion a la url para obtener su cotenido \n",
    "        if nota.status_code == 200: # continuamos solo si el status del htpp response fue exitoso\n",
    "            s_nota = BeautifulSoup(nota.text,\"lxml\") # 3.0 transformamos el html de la response en estructura lxml para poder hacer exploracion en las etiquetas \n",
    "            # extraemos el titulo\n",
    "            titulo = s_nota.find('h1') # 4.0 creamos un ruta para seleccionar a una etiqeuta especifica\n",
    "            text_titulo = titulo.text # 5.0 indicamos que parte de la etiqeuta queremos seleccionar. titulo.text = titulo.get_text()\n",
    "            print(text_titulo)\n",
    "            #extraer el subtitulo\n",
    "            subtitulo = s_nota.find('h3').get_text()\n",
    "            print(subtitulo)\n",
    "            # extraemos la fecha \n",
    "            fecha = s_nota.find('div', attrs={'class':'date modification-date'}).span.time.get('datetime') # asi seleccionamos un atributo \n",
    "            print(fecha.split(\"T\")[0]) # el formato date time es asi \"2023-01-18T00:23:08-03:00\" asi que usamos split para tomar solo fecha\n",
    "            return s_nota\n",
    "    except Exception as e:\n",
    "        print(\"error\")\n",
    "        print(e, \"\\n\")\n",
    "    \n",
    "\n",
    "s_nota = datos_nota(urls_de_seccion_pais[0])"
   ]
  },
  {
   "attachments": {},
   "cell_type": "markdown",
   "metadata": {},
   "source": [
    "### descargando multimedia\n",
    "aprenderemos como descargar una imagen. "
   ]
  },
  {
   "cell_type": "code",
   "execution_count": 94,
   "metadata": {},
   "outputs": [
    {
     "data": {
      "text/plain": [
       "'https://images.pagina12.com.ar/styles/focal_3_2_960x640/public/2023-01/689360-whatsapp-20image-202023-01-17-20at-2010-00-27-20pm.jpeg?itok=WLmoESgz'"
      ]
     },
     "execution_count": 94,
     "metadata": {},
     "output_type": "execute_result"
    }
   ],
   "source": [
    "media = s_nota.find('figure', attrs={'class': ['object-fit-block--contain', 'intrinsic-container', 'intrinsic-container-3x2']})\n",
    "img_url = media.img.get(\"src\")\n",
    "img_url"
   ]
  },
  {
   "cell_type": "code",
   "execution_count": 92,
   "metadata": {},
   "outputs": [
    {
     "data": {
      "text/plain": [
       "200"
      ]
     },
     "execution_count": 92,
     "metadata": {},
     "output_type": "execute_result"
    }
   ],
   "source": [
    "img_request = requests.get(img_url)\n",
    "img_request.status_code"
   ]
  },
  {
   "cell_type": "code",
   "execution_count": 93,
   "metadata": {},
   "outputs": [
    {
     "data": {
      "image/jpeg": "[encoded data removed]",
      "text/plain": [
       "<IPython.core.display.Image object>"
      ]
     },
     "execution_count": 93,
     "metadata": {},
     "output_type": "execute_result"
    }
   ],
   "source": [
    "from IPython.display import Image\n",
    "Image(img_request.content)"
   ]
  },
  {
   "cell_type": "code",
   "execution_count": 97,
   "metadata": {},
   "outputs": [],
   "source": [
    "# reto: guardar la imagen en formato jpg\n",
    "with open(\"p12_img.png\", \"wb\") as png:\n",
    "    png.write(img_request.content)"
   ]
  },
  {
   "attachments": {},
   "cell_type": "markdown",
   "metadata": {},
   "source": [
    "### +++ ensamblando scrapper final\n",
    "lo que nuestro scrapper final hara sera:    \n",
    "1. ir a la pagina de noticias pagina12\n",
    "2. obtener el URL hacia todas las secciones. como:  El país, Economía, Sociedad, Espectáculos, Deportes, Ciencia, El mundo, etc.\n",
    "3. ir a cada seccion y obtener el link hacia todas las notas (noticia) de la pantalla\n",
    "4. crear un diccionario de cada nota que incluya:\n",
    "    - fecha\n",
    "    - titulo\n",
    "    - volanta (subtitulo)\n",
    "    - copete (resumen)\n",
    "    - imagen \n",
    "    - cuerpo"
   ]
  },
  {
   "cell_type": "code",
   "execution_count": 99,
   "metadata": {},
   "outputs": [
    {
     "name": "stdout",
     "output_type": "stream",
     "text": [
      "secciones encontradas:  7\n"
     ]
    },
    {
     "data": {
      "text/plain": [
       "['https://www.pagina12.com.ar/secciones/el-pais',\n",
       " 'https://www.pagina12.com.ar/secciones/economia',\n",
       " 'https://www.pagina12.com.ar/secciones/sociedad',\n",
       " 'https://www.pagina12.com.ar/suplementos/cultura-y-espectaculos',\n",
       " 'https://www.pagina12.com.ar/secciones/deportes',\n",
       " 'https://www.pagina12.com.ar/secciones/ciencia',\n",
       " 'https://www.pagina12.com.ar/secciones/el-mundo']"
      ]
     },
     "execution_count": 99,
     "metadata": {},
     "output_type": "execute_result"
    }
   ],
   "source": [
    "def obtener_urls_secciones():\n",
    "    url= \"https://www.pagina12.com.ar/\"\n",
    "    try:\n",
    "        p12 = requests.get(url)\n",
    "    except Exception as e:\n",
    "        print('Error scrapeando URL', url)\n",
    "        print(e)\n",
    "        return None\n",
    "    if p12.status_code != 200:\n",
    "        print(f'Error obteniendo nota {url}')\n",
    "        print(f'Status Code = {p12.status_code}')\n",
    "        return None\n",
    "    sp = BeautifulSoup(p12.text, 'lxml')\n",
    "    secciones = sp.find(\"ul\", attrs={'class':'main-sections'}).find_all('li')\n",
    "    links_secciones = []\n",
    "    for sec in secciones: \n",
    "        try:\n",
    "            links_secciones.append(sec.a.get('href'))\n",
    "        except: \n",
    "            pass\n",
    "    return links_secciones\n",
    "links_secciones = obtener_urls_secciones()\n",
    "print(\"secciones encontradas: \", len(links_secciones))\n",
    "links_secciones"
   ]
  },
  {
   "attachments": {},
   "cell_type": "markdown",
   "metadata": {},
   "source": [
    "#### medir avance \n",
    "para medir el grado de avance usaremos:\n",
    "https://stackoverflow.com/questions/42212810/tqdm-in-jupyter-notebook-prints-new-progress-bars-repeatedly\n"
   ]
  },
  {
   "cell_type": "code",
   "execution_count": 126,
   "metadata": {},
   "outputs": [
    {
     "name": "stdout",
     "output_type": "stream",
     "text": [
      "  0%|          | 0/3 [00:00<?, ?it/s]0 a\n",
      "processed: 1:   0%|          | 0/3 [00:00<?, ?it/s]1 4\n",
      "processed: 2:  67%|██████▋   | 2/3 [00:01<00:00,  1.97it/s]2 5\n",
      "processed: 3: 100%|██████████| 3/3 [00:03<00:00,  1.02s/it]\n"
     ]
    }
   ],
   "source": [
    "from tqdm import tqdm\n",
    "import sys\n",
    "from time import sleep\n",
    "\n",
    "# el codigo para medir el avance funciona con la siguiente logica\n",
    "values = [\"a\",4,5]\n",
    "with tqdm(total=len(values), file=sys.stdout) as pbar:\n",
    "    for i, n in enumerate(values):\n",
    "        pbar.set_description('processed: %d' % (1 + i))\n",
    "        pbar.update(1)\n",
    "        sleep(1)"
   ]
  },
  {
   "cell_type": "code",
   "execution_count": 162,
   "metadata": {},
   "outputs": [
    {
     "name": "stdout",
     "output_type": "stream",
     "text": [
      "processed: 7: 100%|██████████| 7/7 [00:07<00:00,  1.11s/it]\n",
      "notas encontradas:  66\n"
     ]
    },
    {
     "data": {
      "text/plain": [
       "['https://www.pagina12.com.ar/516651-alberto-fernandez-mi-unica-preocupacion-es-que-argentina-se-',\n",
       " 'https://www.pagina12.com.ar/512883-cuando-es-el-feriado-de-carnaval-2023-y-que-dias-cae',\n",
       " 'https://www.pagina12.com.ar/516630-expectativa-en-diputados-por-la-convocatoria-para-sesiones-e',\n",
       " 'https://www.pagina12.com.ar/516595-interpol-busca-al-hermano-de-miguel-cherutti-por-crimenes-de']"
      ]
     },
     "execution_count": 162,
     "metadata": {},
     "output_type": "execute_result"
    }
   ],
   "source": [
    "def obtener_urls_notas(section_url):\n",
    "    urls_notas_seccion = []\n",
    "    sec = requests.get(section_url)\n",
    "    soup_seccion = BeautifulSoup(sec.text, 'lxml')\n",
    "    articles_title = soup_seccion.find_all(['h2','h3','h4'], attrs={'class':'title-list'}) \n",
    "    for url in articles_title:\n",
    "        if url.a:\n",
    "            urls_notas_seccion.append(['https://www.pagina12.com.ar' + url.a.get('href')])    \n",
    "    return urls_notas_seccion\n",
    "\n",
    "def obtener_urls_de_todas_las_notas(links_secciones): \n",
    "    all_urls_notas = []\n",
    "    with tqdm(total=len(links_secciones), file=sys.stdout) as pbar: #  para medir el grado de avance \n",
    "        for i, link in enumerate(links_secciones):\n",
    "            try:\n",
    "                r = requests.get(link)\n",
    "                if r.status_code == 200:\n",
    "                    all_urls_notas.extend(obtener_urls_notas(r.url)) # extend crea una sola lista, y no una lista de listas.\n",
    "                else:\n",
    "                    print('No se pudo obtener la sección', link)\n",
    "            except:\n",
    "                print('No se pudo obtener la sección', link)\n",
    "            \n",
    "            pbar.set_description('processed: %d' % (1 + i)) # imprime el grado de avance\n",
    "            pbar.update(1)\n",
    "\n",
    "    return all_urls_notas\n",
    "\n",
    "all_urls_notas = obtener_urls_de_todas_las_notas(links_secciones)\n",
    "\n",
    "all_urls_notas_flatten = sum(all_urls_notas, []) # dado que tenemos una lista de listas tenemos que aplanarlas como en numpy para poder usarlas en for\n",
    "\n",
    "print(\"notas encontradas: \", len(all_urls_notas_flatten))\n",
    "all_urls_notas_flatten[:4]"
   ]
  },
  {
   "cell_type": "code",
   "execution_count": 147,
   "metadata": {},
   "outputs": [],
   "source": [
    "def obtener_info(s_nota):\n",
    "    \n",
    "    # Creamos un diccionario vacío para poblarlo con la información\n",
    "    ret_dict = {}\n",
    "    # Extraemos la fecha\n",
    "    fecha = s_nota.find('div', attrs={'class':'date modification-date'}).span.time \n",
    "    if fecha:\n",
    "        ret_dict['fecha'] = fecha.get('datetime').split(\"T\")[0]\n",
    "    else:\n",
    "        ret_dict['fecha'] = None\n",
    "    \n",
    "    # Extraemos el título\n",
    "    titulo = s_nota.find('h1') \n",
    "    if titulo:\n",
    "        ret_dict['titulo'] = titulo.text\n",
    "    else:\n",
    "        ret_dict['titulo'] = None\n",
    "\n",
    "    # Extraemos la volanta\n",
    "    volanta = s_nota.find('h3')\n",
    "    if volanta:\n",
    "        ret_dict['volanta'] = volanta.get_text()\n",
    "    else:\n",
    "        ret_dict['volanta'] = None\n",
    "    \n",
    "    # Extraemos el copete\n",
    "    copete = s_nota.find('h2')\n",
    "    if copete:\n",
    "        ret_dict['copete'] = copete.get_text()\n",
    "    else:\n",
    "        ret_dict['copete'] = None\n",
    "    \n",
    "    # author name \n",
    "    autor = s_nota.find('div', attrs={'class':'author-name'})\n",
    "    if autor:\n",
    "        ret_dict['autor'] = autor.get_text()\n",
    "    else:\n",
    "        ret_dict['autor'] = None\n",
    "    \n",
    "    # Extraemos la imagen\n",
    "    media = s_nota.find('figure', attrs={'class': ['object-fit-block--contain', 'intrinsic-container', 'intrinsic-container-3x2']}).img\n",
    "    if media:\n",
    "        img_src = media.get(\"src\")\n",
    "        try:\n",
    "            img_req = requests.get(img_src)\n",
    "            if img_req.status_code == 200:\n",
    "                ret_dict['imagen'] = img_req.content\n",
    "            else:\n",
    "                ret_dict['imagen'] = None\n",
    "        except:\n",
    "            print('No se pudo obtener la imagen')\n",
    "    else:\n",
    "        print('No se encontró media')\n",
    "    # Extraemos el cuerpo de la nota\n",
    "    cuerpo = s_nota.find('div', attrs={'class':'article-text'})\n",
    "    if cuerpo:\n",
    "        ret_dict['texto'] = cuerpo.get_text()\n",
    "    else:\n",
    "        ret_dict['texto'] = None\n",
    "    return ret_dict"
   ]
  },
  {
   "attachments": {},
   "cell_type": "markdown",
   "metadata": {},
   "source": [
    "con este codigo pruebas lo anterior\n",
    "```python\n",
    "uuurl= \"https://www.pagina12.com.ar/516489-maria-eugenia-vidal-suma-a-dario-nieto-a-su-equipo-de-campan\"\n",
    "p20 = requests.get(uuurl)\n",
    "sopa = BeautifulSoup(p20.text, 'lxml')\n",
    "obtener_info(sopa)\n",
    "```"
   ]
  },
  {
   "cell_type": "code",
   "execution_count": 148,
   "metadata": {},
   "outputs": [],
   "source": [
    "def scrape_nota(url):\n",
    "    try:\n",
    "        nota = requests.get(url)\n",
    "    except Exception as e:\n",
    "        print('Error scrapeando URL', url)\n",
    "        print(e)\n",
    "        return None\n",
    "    \n",
    "    if nota.status_code != 200:\n",
    "        print(f'Error obteniendo nota {URL}')\n",
    "        print(f'Status Code = {nota.status_code}')\n",
    "        return None\n",
    "    \n",
    "    s_nota = BeautifulSoup(nota.text, 'lxml')\n",
    "    \n",
    "    ret_dict = obtener_info(s_nota)\n",
    "    ret_dict['url'] = url\n",
    "    \n",
    "    return ret_dict"
   ]
  },
  {
   "cell_type": "code",
   "execution_count": 172,
   "metadata": {},
   "outputs": [
    {
     "name": "stdout",
     "output_type": "stream",
     "text": [
      "processed: 1:   2%|▏         | 1/66 [00:03<03:21,  3.10s/it]  listo!!!\n",
      "processed: 2:   3%|▎         | 2/66 [00:05<03:00,  2.82s/it]  listo!!!\n",
      "processed: 3:   5%|▍         | 3/66 [00:07<02:30,  2.38s/it]  listo!!!\n",
      "processed: 4:   6%|▌         | 4/66 [00:08<02:01,  1.96s/it]  listo!!!\n",
      "processed: 5:   8%|▊         | 5/66 [00:10<02:00,  1.97s/it]  listo!!!\n",
      "processed: 6:   9%|▉         | 6/66 [00:12<01:51,  1.86s/it]  listo!!!\n",
      "processed: 7:  11%|█         | 7/66 [00:13<01:38,  1.67s/it]  listo!!!\n",
      "processed: 8:  12%|█▏        | 8/66 [00:14<01:23,  1.45s/it]  listo!!!\n",
      "processed: 9:  14%|█▎        | 9/66 [00:15<01:14,  1.30s/it]  listo!!!\n",
      "processed: 10:  15%|█▌        | 10/66 [00:16<01:06,  1.19s/it]  listo!!!\n",
      "processed: 11:  17%|█▋        | 11/66 [00:17<01:02,  1.14s/it]  listo!!!\n",
      "processed: 12:  18%|█▊        | 12/66 [00:18<00:59,  1.10s/it]  listo!!!\n",
      "processed: 13:  20%|█▉        | 13/66 [00:19<01:00,  1.14s/it]  listo!!!\n",
      "processed: 14:  21%|██        | 14/66 [00:21<00:59,  1.14s/it]  listo!!!\n",
      "processed: 15:  23%|██▎       | 15/66 [00:22<01:01,  1.20s/it]  listo!!!\n",
      "processed: 16:  24%|██▍       | 16/66 [00:23<00:59,  1.18s/it]  listo!!!\n",
      "processed: 17:  26%|██▌       | 17/66 [00:24<00:57,  1.17s/it]  listo!!!\n",
      "processed: 18:  27%|██▋       | 18/66 [00:27<01:15,  1.58s/it]  listo!!!\n",
      "processed: 19:  29%|██▉       | 19/66 [00:28<01:10,  1.51s/it]  listo!!!\n",
      "processed: 20:  30%|███       | 20/66 [00:29<01:01,  1.34s/it]  listo!!!\n",
      "processed: 21:  32%|███▏      | 21/66 [00:30<00:58,  1.29s/it]  listo!!!\n",
      "processed: 22:  33%|███▎      | 22/66 [00:31<00:55,  1.26s/it]  listo!!!\n",
      "processed: 23:  35%|███▍      | 23/66 [00:33<00:51,  1.21s/it]  listo!!!\n",
      "processed: 24:  36%|███▋      | 24/66 [00:34<00:51,  1.23s/it]  listo!!!\n",
      "processed: 25:  38%|███▊      | 25/66 [00:35<00:47,  1.16s/it]  listo!!!\n",
      "processed: 26:  39%|███▉      | 26/66 [00:36<00:46,  1.16s/it]  listo!!!\n",
      "processed: 27:  41%|████      | 27/66 [00:37<00:44,  1.15s/it]  listo!!!\n",
      "processed: 28:  42%|████▏     | 28/66 [00:39<00:51,  1.36s/it]  listo!!!\n",
      "processed: 29:  44%|████▍     | 29/66 [00:40<00:47,  1.29s/it]  listo!!!\n",
      "processed: 30:  45%|████▌     | 30/66 [00:42<00:49,  1.37s/it]  listo!!!\n",
      "processed: 31:  47%|████▋     | 31/66 [00:43<00:48,  1.38s/it]  listo!!!\n",
      "processed: 32:  48%|████▊     | 32/66 [00:44<00:47,  1.38s/it]  listo!!!\n",
      "processed: 33:  50%|█████     | 33/66 [00:46<00:44,  1.35s/it]  listo!!!\n",
      "processed: 34:  52%|█████▏    | 34/66 [00:47<00:39,  1.23s/it]  listo!!!\n",
      "processed: 35:  53%|█████▎    | 35/66 [00:48<00:37,  1.20s/it]  listo!!!\n",
      "processed: 36:  55%|█████▍    | 36/66 [00:49<00:34,  1.16s/it]  listo!!!\n",
      "processed: 37:  56%|█████▌    | 37/66 [00:50<00:32,  1.12s/it]  listo!!!\n",
      "processed: 38:  58%|█████▊    | 38/66 [00:51<00:30,  1.09s/it]  listo!!!\n",
      "processed: 39:  59%|█████▉    | 39/66 [00:52<00:30,  1.13s/it]  listo!!!\n",
      "processed: 40:  61%|██████    | 40/66 [00:53<00:28,  1.11s/it]  listo!!!\n",
      "processed: 41:  62%|██████▏   | 41/66 [00:54<00:28,  1.13s/it]  listo!!!\n",
      "processed: 42:  64%|██████▎   | 42/66 [00:56<00:28,  1.18s/it]  listo!!!\n",
      "processed: 43:  65%|██████▌   | 43/66 [00:57<00:26,  1.17s/it]  listo!!!\n",
      "processed: 44:  67%|██████▋   | 44/66 [00:58<00:27,  1.25s/it]  listo!!!\n",
      "processed: 45:  68%|██████▊   | 45/66 [01:00<00:27,  1.31s/it]  listo!!!\n",
      "processed: 46:  70%|██████▉   | 46/66 [01:01<00:24,  1.24s/it]  listo!!!\n",
      "processed: 47:  71%|███████   | 47/66 [01:02<00:23,  1.24s/it]  listo!!!\n",
      "processed: 48:  73%|███████▎  | 48/66 [01:03<00:23,  1.31s/it]  listo!!!\n",
      "processed: 49:  74%|███████▍  | 49/66 [01:04<00:20,  1.23s/it]  listo!!!\n",
      "processed: 50:  76%|███████▌  | 50/66 [01:06<00:20,  1.30s/it]  listo!!!\n",
      "processed: 51:  77%|███████▋  | 51/66 [01:07<00:19,  1.32s/it]  listo!!!\n",
      "processed: 52:  79%|███████▉  | 52/66 [01:09<00:18,  1.31s/it]  listo!!!\n",
      "processed: 53:  80%|████████  | 53/66 [01:11<00:21,  1.67s/it]  listo!!!\n",
      "processed: 54:  82%|████████▏ | 54/66 [01:13<00:20,  1.72s/it]  listo!!!\n",
      "processed: 55:  83%|████████▎ | 55/66 [01:15<00:19,  1.74s/it]  listo!!!\n",
      "processed: 56:  85%|████████▍ | 56/66 [01:16<00:16,  1.62s/it]  listo!!!\n",
      "processed: 57:  86%|████████▋ | 57/66 [01:17<00:13,  1.47s/it]  listo!!!\n",
      "processed: 58:  88%|████████▊ | 58/66 [01:18<00:11,  1.39s/it]  listo!!!\n",
      "processed: 59:  89%|████████▉ | 59/66 [01:20<00:09,  1.31s/it]  listo!!!\n",
      "processed: 60:  91%|█████████ | 60/66 [01:21<00:07,  1.25s/it]  listo!!!\n",
      "processed: 61:  92%|█████████▏| 61/66 [01:22<00:06,  1.23s/it]  listo!!!\n",
      "processed: 62:  94%|█████████▍| 62/66 [01:23<00:04,  1.17s/it]  listo!!!\n",
      "processed: 63:  95%|█████████▌| 63/66 [01:24<00:03,  1.18s/it]  listo!!!\n",
      "processed: 64:  97%|█████████▋| 64/66 [01:25<00:02,  1.20s/it]  listo!!!\n",
      "processed: 65:  98%|█████████▊| 65/66 [01:27<00:01,  1.31s/it]  listo!!!\n",
      "processed: 66: 100%|██████████| 66/66 [01:28<00:00,  1.26s/it]  listo!!!\n",
      "processed: 66: 100%|██████████| 66/66 [01:28<00:00,  1.34s/it]\n"
     ]
    }
   ],
   "source": [
    "def crear_list_de_dicts_de_la_data_de_las_notas(all_urls_notas):\n",
    "    data = []\n",
    "    with tqdm(total=len(all_urls_notas), file=sys.stdout) as pbar: #  para medir el grado de avance \n",
    "        for i, url in enumerate(all_urls_notas):\n",
    "            data.append(scrape_nota(url))      \n",
    "            pbar.set_description('processed: %d' % (1 + i)) # imprime el grado de avance\n",
    "            pbar.update(1)    \n",
    "            print(\"  listo!!!\")\n",
    "    return data\n",
    "# urls_notes = all_urls_notas_flatten[0:10] # para mas rapides \n",
    "data = crear_list_de_dicts_de_la_data_de_las_notas(all_urls_notas_flatten)"
   ]
  },
  {
   "cell_type": "code",
   "execution_count": 173,
   "metadata": {},
   "outputs": [
    {
     "name": "stdout",
     "output_type": "stream",
     "text": [
      "66\n"
     ]
    }
   ],
   "source": [
    "print(len(data))\n",
    "#data[1]"
   ]
  },
  {
   "attachments": {},
   "cell_type": "markdown",
   "metadata": {},
   "source": [
    "### guardar la data scrapeada\n",
    "guardaremos todo lo que scrapeamos en un DataFrame y  en un archivo CSV"
   ]
  },
  {
   "cell_type": "code",
   "execution_count": 169,
   "metadata": {},
   "outputs": [],
   "source": [
    "import pandas as pd"
   ]
  },
  {
   "cell_type": "code",
   "execution_count": 186,
   "metadata": {},
   "outputs": [
    {
     "data": {
      "text/html": [
       "<div>\n",
       "<style scoped>\n",
       "    .dataframe tbody tr th:only-of-type {\n",
       "        vertical-align: middle;\n",
       "    }\n",
       "\n",
       "    .dataframe tbody tr th {\n",
       "        vertical-align: top;\n",
       "    }\n",
       "\n",
       "    .dataframe thead th {\n",
       "        text-align: right;\n",
       "    }\n",
       "</style>\n",
       "<table border=\"1\" class=\"dataframe\">\n",
       "  <thead>\n",
       "    <tr style=\"text-align: right;\">\n",
       "      <th></th>\n",
       "      <th>fecha</th>\n",
       "      <th>titulo</th>\n",
       "      <th>volanta</th>\n",
       "      <th>copete</th>\n",
       "      <th>autor</th>\n",
       "      <th>imagen</th>\n",
       "      <th>texto</th>\n",
       "      <th>url</th>\n",
       "    </tr>\n",
       "  </thead>\n",
       "  <tbody>\n",
       "    <tr>\n",
       "      <th>0</th>\n",
       "      <td>2023-01-18</td>\n",
       "      <td>Alberto Fernández: \"Mi única preocupación es q...</td>\n",
       "      <td>Ampliación de la Planta Depuradora de Líquidos...</td>\n",
       "      <td>En Presidente viajó a Mendoza y lamentó la aus...</td>\n",
       "      <td>None</td>\n",
       "      <td>b'\\xff\\xd8\\xff\\xe1\\x00\"Exif\\x00\\x00MM\\x00*\\x00...</td>\n",
       "      <td>El presidente Alberto Fernández inauguró este ...</td>\n",
       "      <td>https://www.pagina12.com.ar/516651-alberto-fer...</td>\n",
       "    </tr>\n",
       "  </tbody>\n",
       "</table>\n",
       "</div>"
      ],
      "text/plain": [
       "        fecha                                             titulo  \\\n",
       "0  2023-01-18  Alberto Fernández: \"Mi única preocupación es q...   \n",
       "\n",
       "                                             volanta  \\\n",
       "0  Ampliación de la Planta Depuradora de Líquidos...   \n",
       "\n",
       "                                              copete autor  \\\n",
       "0  En Presidente viajó a Mendoza y lamentó la aus...  None   \n",
       "\n",
       "                                              imagen  \\\n",
       "0  b'\\xff\\xd8\\xff\\xe1\\x00\"Exif\\x00\\x00MM\\x00*\\x00...   \n",
       "\n",
       "                                               texto  \\\n",
       "0  El presidente Alberto Fernández inauguró este ...   \n",
       "\n",
       "                                                 url  \n",
       "0  https://www.pagina12.com.ar/516651-alberto-fer...  "
      ]
     },
     "execution_count": 186,
     "metadata": {},
     "output_type": "execute_result"
    }
   ],
   "source": [
    "df = pd.DataFrame(data[0:1]) # tenemos 66 notas pero para ahorrar espacio solo guardaremos 1 notas \n",
    "df.head(3) # vemos como en automatico organiza la lista de dicts en un solo DF"
   ]
  },
  {
   "cell_type": "code",
   "execution_count": 187,
   "metadata": {},
   "outputs": [],
   "source": [
    "# guardamos el df indicando la fecha del scraping\n",
    "df.to_csv('notas_pagina12.csv')\n",
    "# de 61 notas el CSV peso 27mb = 0.44mb x nota"
   ]
  }
 ],
 "metadata": {
  "kernelspec": {
   "display_name": "base",
   "language": "python",
   "name": "python3"
  },
  "language_info": {
   "codemirror_mode": {
    "name": "ipython",
    "version": 3
   },
   "file_extension": ".py",
   "mimetype": "text/x-python",
   "name": "python",
   "nbconvert_exporter": "python",
   "pygments_lexer": "ipython3",
   "version": "3.9.12"
  },
  "orig_nbformat": 4,
  "vscode": {
   "interpreter": {
    "hash": "89700b826ea957244dd80a5eea6853c4d4fde16e09f6b962977bd16c6aae5fc9"
   }
  }
 },
 "nbformat": 4,
 "nbformat_minor": 2
}
