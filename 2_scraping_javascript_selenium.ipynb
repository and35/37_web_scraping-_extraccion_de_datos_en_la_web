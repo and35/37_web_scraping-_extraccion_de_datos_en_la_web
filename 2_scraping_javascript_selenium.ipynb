{
 "cells": [
  {
   "attachments": {},
   "cell_type": "markdown",
   "metadata": {},
   "source": [
    "# Módulo 2: Scraping con Selenium\n",
    "## LATAM Airlines\n",
    "<a href=\"https://www.latam.com/es_ar/\"><img src=\"https://i.pinimg.com/originals/dd/52/74/dd5274702d1382d696caeb6e0f6980c5.png\"  width=\"420\"></img></a>\n",
    "<br>\n",
    "\n",
    "Vamos a scrapear el sitio de Latam para averiguar datos de vuelos en funcion el origen y destino, fecha y cabina. La información que esperamos obtener de cada vuelo es:\n",
    "- Precio(s) disponibles\n",
    "- Horas de salida, de llegada y duración\n",
    "- Información de las escalas\n",
    "\n",
    "¡Empecemos!\n",
    "la pagina para mexico es <a href=\"https://www.latamairlines.com/mx/es\">latamairlines mx</a>\n",
    "\n",
    "debes entender que no puedes buscar vuelos a cualquier parte del mundo, ya que hay rutas establecidas, para encontrar una ruta turistica ve a la seccion de \"ofertas de vuelo desde CDMX\", asi encontre que rio es un pais muy visitado. \n",
    "el link que usaremos es para buscar vuelos con las siguientes caracteristicas:\n",
    "- viaje solo de ida, economico, adulto, desde CDMX a rio de janeiro\n",
    "- fecha 15 dias de la fecha actual osea para el 15 de febrero   \n",
    "este es el link generado:   \n",
    "https://www.latamairlines.com/mx/es/ofertas-vuelos?origin=MEX&inbound=null&outbound=2023-02-15T18%3A00%3A00.000Z&destination=RIO&adt=1&chd=0&inf=0&trip=OW&cabin=Economy&redemption=false&sort=RECOMMENDED_A\n"
   ]
  },
  {
   "attachments": {},
   "cell_type": "markdown",
   "metadata": {},
   "source": [
    "## ++ El poder de selenium \n",
    "A diferencia de usar requests solo para descargar el contenido de una pagina, selenium nos permite recibir y enviar datos mediante una interfaz en la cual interactua directamente con el navegador. Esto nos permite interctuar con las paginas y no solo leer su contenido. Esto es muy útil cuando queremos rellenar formularios, interactuar con contenido escondido mediante JS y mas. \n",
    "### Web element\n",
    "El componente principal en selenium es el web element, que literalemente es un elemento selecionado de la pagina web generalmente una etiqueta. Sobre este podemos:\n",
    "-\tHacer búsquedas: usando Xpath u lo mismos que beautiful soup\n",
    "-\tInsertar texto: para formularios\n",
    "-\tHacer clik: para ingresar a otras pestañas.\n",
    "Aquí tenemos algunos métodos:\n",
    "https://www.browserstack.com/guide/selenium-webelement-commands\n"
   ]
  },
  {
   "attachments": {},
   "cell_type": "markdown",
   "metadata": {},
   "source": [
    "## inteto del objetivo usando requests y beautiful soup\n",
    "intentaremos resolver la tarea usando lo aprendido en el anterior notebook "
   ]
  },
  {
   "cell_type": "code",
   "execution_count": 2,
   "metadata": {},
   "outputs": [
    {
     "data": {
      "text/plain": [
       "200"
      ]
     },
     "execution_count": 2,
     "metadata": {},
     "output_type": "execute_result"
    }
   ],
   "source": [
    "import requests\n",
    "from bs4 import BeautifulSoup\n",
    "\n",
    "url = \"https://www.latamairlines.com/mx/es/ofertas-vuelos?origin=MEX&inbound=null&outbound=2023-02-15T18%3A00%3A00.000Z&destination=RIO&adt=1&chd=0&inf=0&trip=OW&cabin=Economy&redemption=false&sort=RECOMMENDED_A\"\n",
    "r = requests.get(url)\n",
    "r.status_code"
   ]
  },
  {
   "cell_type": "code",
   "execution_count": 3,
   "metadata": {},
   "outputs": [],
   "source": [
    "s = BeautifulSoup(r.text, 'lxml')\n",
    "#print(s.prettify())"
   ]
  },
  {
   "attachments": {},
   "cell_type": "markdown",
   "metadata": {},
   "source": [
    "En la respuesta aparecera que habilitemos JS para ver todo el texto, esto es debido a que python no sabe interpretar JS. la respuesta no contiene la información que buscamos, ya que la misma aparece recién después de ejecutar el código JavaSCript que está en la respuesta."
   ]
  },
  {
   "cell_type": "markdown",
   "metadata": {},
   "source": [
    "## Selenium\n",
    "Selenium es una herramienta que nos permitirá controlar un navegador y podremos utilizar las funcionalidades del motor de JavaScript para cargar el contenido que no viene en el HTML de la página. Para esto necesitamos el módulo `webdriver`.\n",
    "- Paso 1: instanciar un **driver** del navegador\n",
    "    ```python\n",
    "        from selenium import webdriver\n",
    "        driver = webdriver.Chrome(executable_path='./chromedriver/chromedriver.exe')\n",
    "    ```\n",
    "- Paso 2: hacer que el navegador cargue la página web.\n",
    "    ```python\n",
    "    driver.get(url)\n",
    "    ```\n",
    "- Paso 3: seleccionar una etiqeuta de la página. usando Xpath \n",
    "    ```python\n",
    "    from selenium.webdriver.common.by import By\n",
    "    vuelos = driver.find_elements(by=By.XPATH, value='//li[@class=\"sc-bvTASY cfqKKq\"]')\n",
    "    # traera todos las etiqeutas li con la class especicificada(serian todos los vuelos)\n",
    "    ```\n",
    "- paso 4: seleccionar un elemento de la etiqueta\n",
    "    - texto(.text):\n",
    "    ```python\n",
    "    # texto de la duracion del vuelo\n",
    "    duracion_vuelo = vuelo.find_element(by=By.XPATH, value ='.//div[@class=\"sc-klSiHT hjzFuR flight-duration\"]/span[@class=\"sc-goFBvh kpzJsB\"]').text \n",
    "    # si quisieramos un atriguto en vez de .text usariamos .get_attribute(\"name_atribute\")\n",
    "    ```\n",
    "    - atributos(.get_attribute(\"name_atribute\")):\n",
    "    ```python\n",
    "    # texto de la duracion del vuelo\n",
    "    id_etiqueta_duracion_vuelo = vuelo.find_element(by=By.XPATH, value ='.//div[@class=\"sc-klSiHT hjzFuR flight-duration\"]/span[@class=\"sc-goFBvh kpzJsB\"]').get_attribute(\"id\") \n",
    "    # si quisieramos un atriguto en vez de .text usariamos .get_attribute(\"name_atribute\")\n",
    "    ```\n",
    "- Paso 5: cerrar el navegador\n",
    "    ```python\n",
    "    from selenium.webdriver.common.by import By\n",
    "    vuelos = driver.find_elements(by=By.XPATH, value='//li[@class=\"sc-bvTASY cfqKKq\"]')\n",
    "    # traera todos las etiqeutas li con la class especicificada(serian todos los vuelos)\n",
    "    ```"
   ]
  },
  {
   "cell_type": "code",
   "execution_count": 4,
   "metadata": {},
   "outputs": [],
   "source": [
    "from selenium import webdriver"
   ]
  },
  {
   "cell_type": "code",
   "execution_count": 40,
   "metadata": {},
   "outputs": [
    {
     "name": "stderr",
     "output_type": "stream",
     "text": [
      "C:\\Users\\Panda\\AppData\\Local\\Temp\\ipykernel_14504\\3297477197.py:6: DeprecationWarning: executable_path has been deprecated, please pass in a Service object\n",
      "  driver = webdriver.Chrome(executable_path='./chromedriver/chromedriver.exe')\n"
     ]
    }
   ],
   "source": [
    "# definimos opciones para nuestro navedor que controlaremos desde selenium python\n",
    "options = webdriver.ChromeOptions()\n",
    "options.add_argument('--incognito') # indicamos que sea una ventana incognita \"-private\"\n",
    "\n",
    "#usamos el driver para controlar una pestaña nueva de chrome desde el codigo de python mediante selenium\n",
    "driver = webdriver.Chrome(executable_path='./chromedriver/chromedriver.exe')\n",
    "driver.get(url) # en la pestaña nuva abrimos la pagina deseada "
   ]
  },
  {
   "attachments": {},
   "cell_type": "markdown",
   "metadata": {},
   "source": [
    "### construyendo Xpath\n",
    "a diferencia de beautiful soup, en selenium se usan Xpath como ruta para seleccionar una etiqeuta especifica.\n",
    "el profesor menciona que para usar Xpath usemos la sintaxis \n",
    "```python\n",
    "vuelos = driver.find_elements_by_xpath('//li[@class=\"flight\"]')\n",
    "```\n",
    "pero esta sintaxis ya no existe ahora se usa \n",
    "\n",
    "```python\n",
    "from selenium.webdriver.common.by import By\n",
    "vuelos = driver.find_elements(by=By.XPATH, value='//li[@class=\"sc-bvTASY cfqKKq\"]')\n",
    "#  o\n",
    "vuelos = driver.find_element(by=By.XPATH, value='//li[@class=\"sc-bvTASY cfqKKq\"]')\n",
    "\n",
    "```"
   ]
  },
  {
   "cell_type": "code",
   "execution_count": 6,
   "metadata": {},
   "outputs": [
    {
     "data": {
      "text/plain": [
       "<selenium.webdriver.remote.webelement.WebElement (session=\"1183e3f8c87ca8235bbddc4898ed4713\", element=\"9d5b486f-d0c5-4148-863f-da120004d684\")>"
      ]
     },
     "execution_count": 6,
     "metadata": {},
     "output_type": "execute_result"
    }
   ],
   "source": [
    "# Extraer la información de los vuelos\n",
    "from selenium.webdriver.common.by import By\n",
    "vuelos = driver.find_elements(by=By.XPATH, value='//li[@class=\"sc-bvTASY cfqKKq\"]')\n",
    "vuelo = vuelos[0]\n",
    "vuelo"
   ]
  },
  {
   "cell_type": "code",
   "execution_count": 7,
   "metadata": {},
   "outputs": [
    {
     "data": {
      "text/plain": [
       "'21 h 45 min'"
      ]
     },
     "execution_count": 7,
     "metadata": {},
     "output_type": "execute_result"
    }
   ],
   "source": [
    "duracion_vuelo = vuelo.find_element(by=By.XPATH, \n",
    "value ='.//div[@class=\"sc-klSiHT hjzFuR flight-duration\"]/span[@class=\"sc-goFBvh kpzJsB\"]').text \n",
    "duracion_vuelo"
   ]
  },
  {
   "cell_type": "code",
   "execution_count": 8,
   "metadata": {},
   "outputs": [
    {
     "name": "stdout",
     "output_type": "stream",
     "text": [
      "4:00 p. m. 4:45 p. m.\n",
      "+1\n",
      "21 h 45 min\n"
     ]
    }
   ],
   "source": [
    "# Dado que la información de la hora de salida y llegada se encuentra en diferentes 'div', pero tienen el mismo nombre de clase, por lo tanto, se debe utilizar el método '.find_elements()' para obtener mencionada información.\n",
    "\n",
    "tiempo_salida_llegada = vuelo.find_elements(by=By.XPATH, \n",
    "value='.//div[@class=\"sc-klSiHT hjzFuR flight-information\"]/span[@class=\"sc-hkHFWD lomdTu\"]')\n",
    "\n",
    "# Información de la hora de salida\n",
    "tiempo_salida = tiempo_salida_llegada[0].text\n",
    "\n",
    "# Información de la hora de llegada\n",
    "tiempo_llegada = tiempo_salida_llegada[1].text\n",
    "\n",
    "# Información de la duración del vuelo\n",
    "duracion_vuelo = vuelo.find_element(by=By.XPATH, \n",
    "value ='.//div[@class=\"sc-klSiHT hjzFuR flight-duration\"]/span[@class=\"sc-goFBvh kpzJsB\"]').text \n",
    "# si quisieramos un atriguto en vez de .text usariamos .get_attribute(\"name_atribute\")\n",
    "print(tiempo_salida, tiempo_llegada)\n",
    "print(duracion_vuelo)"
   ]
  },
  {
   "attachments": {},
   "cell_type": "markdown",
   "metadata": {},
   "source": [
    "## interactuando con botones\n",
    "selenium nos permite dar click a botones del navegador.  \n",
    "en ocaciones el html del response html viene oculto, y se accede solo si damos click en una parte. si queremos acceder a ese contenido debemos saber interactuar con botones. "
   ]
  },
  {
   "cell_type": "code",
   "execution_count": 9,
   "metadata": {},
   "outputs": [],
   "source": [
    "boton_escalas = vuelo.find_element(by=By.XPATH, \n",
    "value ='.//a[@id=\"itinerary-modal-0-dialog-open\"]') #buscamos el boton del enlace\n",
    "boton_escalas.click() # damos clic sobre el enlace, el navegador cambiara"
   ]
  },
  {
   "cell_type": "code",
   "execution_count": 10,
   "metadata": {},
   "outputs": [
    {
     "name": "stdout",
     "output_type": "stream",
     "text": [
      "numero de escalas:  1 \n",
      " lugar de la escala: \n"
     ]
    },
    {
     "data": {
      "text/plain": [
       "'Conexión Lima'"
      ]
     },
     "execution_count": 10,
     "metadata": {},
     "output_type": "execute_result"
    }
   ],
   "source": [
    "# ahora que ya tenemos una subpestaña abierta podemos interactuar con su html\n",
    "# supongamos que queremos saber di hay escalas y donde sera\n",
    "conecciones = vuelo.find_elements(by=By.XPATH, value ='//section[@data-test=\"section-info-connection\"]')\n",
    "print(\"numero de escalas: \", len(conecciones), \"\\n lugar de la escala: \")\n",
    "conecciones[0].find_element(by=By.XPATH, value ='//span[@class=\"connection-text\"]').text\n"
   ]
  },
  {
   "attachments": {},
   "cell_type": "markdown",
   "metadata": {},
   "source": [
    "ten en consideracion que cualquier boton del html lo podemos utilizar, asi podemos minimizar la subpestaña si conseguimos el xpath del boton de la X.   \n",
    "te daras cuenta que cuando estas en el navegador y pasas encima del vuelo, te aparece la opcion de dar click. asi que la logica es la siguiente:\n",
    "- busca una etiqueta en la cual puedas hacer click\n",
    "- utiliza el metodo click"
   ]
  },
  {
   "cell_type": "code",
   "execution_count": 21,
   "metadata": {},
   "outputs": [],
   "source": [
    "# seleccionamos el boton close de la subpestaña\n",
    "vuelo.find_element(by=By.XPATH, value ='//button[@aria-label=\"Cerrar Itinerario de vuelo.\"]').click() # dara error si el navegador no tiene que cerrar"
   ]
  },
  {
   "cell_type": "code",
   "execution_count": 37,
   "metadata": {},
   "outputs": [
    {
     "data": {
      "text/plain": [
       "[1480.55, 1663.55, 1869.55, 5328.55]"
      ]
     },
     "execution_count": 37,
     "metadata": {},
     "output_type": "execute_result"
    }
   ],
   "source": [
    "# damos click sobre el recuadro del vuelo para abrir las tarifas del vuelo\n",
    "vuelo.find_element(by=By.XPATH, value ='//div[@role=\"button\"]').click()\n",
    "# ya adentro podemos acceder a las etiqeutas de las tarifas y transformarlas a float para posterior manipulacion\n",
    "tarifas = vuelo.find_elements(by=By.XPATH, \n",
    "value ='//ol[@class=\"sc-buGlAa jhwXGF\"]/li//span[@class=\"sc-eweMDZ ePnUhC displayAmount\"]/span[@class=\"sc-ckYZGd grNCid\"]')\n",
    "[float(tarifa.text.replace(\",\",\"\")) for tarifa in tarifas] "
   ]
  },
  {
   "cell_type": "code",
   "execution_count": 32,
   "metadata": {},
   "outputs": [],
   "source": [
    "driver.close() # cerramos el navegador de enlace "
   ]
  },
  {
   "attachments": {},
   "cell_type": "markdown",
   "metadata": {},
   "source": [
    "si alguién más obtuvo un status code 403: access denied lo resolví así:\n",
    "```python\n",
    "agent = {\"User-Agent\":\"Mozilla/5.0\"}\n",
    "r = requests.get(url, headers=agent)\n",
    "```"
   ]
  },
  {
   "attachments": {},
   "cell_type": "markdown",
   "metadata": {},
   "source": [
    "## insertando contenido\n",
    "algo peculiar de selenium es su capacidad de insertar datos. por ejemplo en esta ocacion nosotros insertaremos los datos del vuelo y fecha para buscar, todo desde selenium\n",
    "use de guia: \n",
    "https://www.geeksforgeeks.org/how-to-simulate-pressing-enter-in-html-text-input-with-selenium/"
   ]
  },
  {
   "cell_type": "code",
   "execution_count": 41,
   "metadata": {},
   "outputs": [
    {
     "name": "stderr",
     "output_type": "stream",
     "text": [
      "C:\\Users\\Panda\\AppData\\Local\\Temp\\ipykernel_14504\\101357599.py:2: DeprecationWarning: executable_path has been deprecated, please pass in a Service object\n",
      "  driver = webdriver.Chrome(executable_path='./chromedriver/chromedriver.exe')\n"
     ]
    }
   ],
   "source": [
    "root_url = \"https://www.latamairlines.com/mx/es\"\n",
    "driver = webdriver.Chrome(executable_path='./chromedriver/chromedriver.exe')\n",
    "driver.get(root_url)"
   ]
  },
  {
   "cell_type": "code",
   "execution_count": 59,
   "metadata": {},
   "outputs": [],
   "source": []
  },
  {
   "cell_type": "code",
   "execution_count": 111,
   "metadata": {},
   "outputs": [],
   "source": [
    "# seleccionamos toda la barra de busqueda\n",
    "search_box = driver.find_element(by=By.XPATH, value ='//div[@id=\"MainSearchBoxDesktop\"]')\n",
    "\n",
    "# simulamos clicks para configurar vuelo solo de ida \n",
    "search_box.find_element(by=By.XPATH, value ='//button[@id=\"btnTripTypeCTA\"]').click()\n",
    "search_box.find_element(by=By.XPATH, value ='//button[@id=\"btnTripType0\"]').click()\n",
    "\n",
    "# ingresamos en texto de origen y destino y damos click\n",
    "search_box.find_element(by=By.XPATH, value ='//input[@id=\"txtInputOrigin_field\"]').send_keys(\"Ciudad de México\")\n",
    "search_box.find_element(by=By.XPATH, value ='//ul[@id=\"listAutoComplete\"]/li[@id=\"lstItem_0\"]').click() # requerimos dar click en una opcion valida\n",
    "search_box.find_element(by=By.XPATH, value ='//input[@id=\"txtInputDestination_field\"]').send_keys(\"Río de Janeiro\")\n",
    "search_box.find_element(by=By.XPATH, value ='//ul[@id=\"listAutoComplete\"]/li[@id=\"lstItem_0\"]').click()\n",
    "\n",
    "\n",
    "# crear un formato de fecha valido para usar en el atributo aria-label de la fecha \n",
    "from datetime import datetime, timedelta\n",
    "import locale\n",
    "locale.setlocale(locale.LC_TIME, '') # importamos las fechas en español \n",
    "\n",
    "date_now = datetime.now()\n",
    "mas_un_mes = date_now + timedelta(days=30) # le sumamos 30 dias a la fecha actual\n",
    "\n",
    "dia_txt = mas_un_mes.strftime('%A') \n",
    "dia_num = mas_un_mes.day\n",
    "mes_txt = mas_un_mes.strftime('%B')\n",
    "año = mas_un_mes.year\n",
    "fecha_formato = f\"{dia_txt}, {dia_num} de {mes_txt} de {año}\"\n",
    "\n",
    "# ingresamos al campo de fecha y añadimos \n",
    "search_box.find_element(by=By.XPATH, value ='//input[@id=\"departureDate\"]').click()\n",
    "search_box.find_element(by=By.XPATH, value =f'//td[@aria-label=\"{fecha_formato}\"]').click()\n",
    "\n",
    "# click al link de busqueda\n",
    "search_box.find_element(by=By.XPATH, value ='//button[@id=\"btnSearchCTA\"]').click()"
   ]
  },
  {
   "attachments": {},
   "cell_type": "markdown",
   "metadata": {},
   "source": [
    "### uso de fechas\n",
    "buscar en internet \"como calcular que dia de la semana cae una fecha python\"  \n",
    "\n",
    "https://www.freecodecamp.org/espanol/news/modulo-datetime-de-python-como-manejar-fechas-en-python/#:~:text=C%C3%B3mo%20saber%20qu%C3%A9%20d%C3%ADa%20es&text=Podemos%20utilizar%20la%20funci%C3%B3n%20weekday,el%20martes%2C%20y%20as%C3%AD%20sucesivamente.\n",
    "\n",
    "#### para traducir \n",
    "https://stackoverflow.com/questions/35226904/convert-spanish-date-in-string-format\n",
    "\n",
    "####\n",
    "para obtener los formatos de fechas \n",
    "https://help.gnome.org/users/gthumb/stable/gthumb-date-formats.html.en\n"
   ]
  },
  {
   "attachments": {},
   "cell_type": "markdown",
   "metadata": {},
   "source": [
    "## unificando el scraper \n",
    "en este caso crearemos algo con verdadera utiliadad. supongamos que quiero viajar dentro de un mes o mas a brasil, para lo cual necesito buscar entre 30 dias cual es el que mejor tarifas tiene. la pagina no muestra esta informacion directamente, asi que creare un scraper que analice para el siguiente mes varios dias y me diga cual es el dia que mejor precios tiene.\n",
    "lo que hara el scrapper sera: \n",
    "1. "
   ]
  }
 ],
 "metadata": {
  "kernelspec": {
   "display_name": "base",
   "language": "python",
   "name": "python3"
  },
  "language_info": {
   "codemirror_mode": {
    "name": "ipython",
    "version": 3
   },
   "file_extension": ".py",
   "mimetype": "text/x-python",
   "name": "python",
   "nbconvert_exporter": "python",
   "pygments_lexer": "ipython3",
   "version": "3.9.12"
  },
  "orig_nbformat": 4,
  "vscode": {
   "interpreter": {
    "hash": "89700b826ea957244dd80a5eea6853c4d4fde16e09f6b962977bd16c6aae5fc9"
   }
  }
 },
 "nbformat": 4,
 "nbformat_minor": 2
}
