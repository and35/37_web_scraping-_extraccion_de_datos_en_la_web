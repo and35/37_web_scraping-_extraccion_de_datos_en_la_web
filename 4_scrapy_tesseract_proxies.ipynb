{
 "cells": [
  {
   "attachments": {},
   "cell_type": "markdown",
   "metadata": {},
   "source": [
    "# scrapy\n",
    "Scrapy nos permite manejar la request de manera paralela asincrónica. \n",
    "En vez de como le hacíamos con requests y BS de: \n",
    "1.\tenviar request\n",
    "2.\tprocesar la respuesta \n",
    "3.\thacer la próxima request \n",
    "con scrapy enviaremos y procesaremos de forma paralela. \n",
    "Otras ventajas: \n",
    "-\tya no debemos parsear con BS ya que podemos usar Xpath directamente \n",
    "-\tlimitar la cantidad de requests en paralelo \n",
    "-\tsetear demoras que nos indica el robots.tx"
   ]
  },
  {
   "cell_type": "code",
   "execution_count": null,
   "metadata": {},
   "outputs": [],
   "source": [
    "\n"
   ]
  }
 ],
 "metadata": {
  "language_info": {
   "name": "python"
  },
  "orig_nbformat": 4
 },
 "nbformat": 4,
 "nbformat_minor": 2
}
